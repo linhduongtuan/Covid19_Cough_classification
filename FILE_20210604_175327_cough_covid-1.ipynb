{
 "cells": [
  {
   "cell_type": "code",
   "execution_count": null,
   "metadata": {
    "colab": {
     "base_uri": "https://localhost:8080/"
    },
    "id": "7yGF2N_FLXIX",
    "outputId": "7eafb901-25d2-4d05-ec56-535c29ce740b"
   },
   "outputs": [],
   "source": [
    "#from google.colab import drive\n",
    "#drive.mount('/content/drive')"
   ]
  },
  {
   "cell_type": "code",
   "execution_count": null,
   "metadata": {
    "id": "y_w8gtDuLYE9"
   },
   "outputs": [],
   "source": [
    "#!cp '/content/drive/MyDrive/Cough_Covid19/public_dataset_wav.zip' '/content/'"
   ]
  },
  {
   "cell_type": "code",
   "execution_count": null,
   "metadata": {
    "id": "SaopQIA3LlSM"
   },
   "outputs": [],
   "source": [
    "#!unzip public_dataset_wav.zip"
   ]
  },
  {
   "cell_type": "code",
   "execution_count": 1,
   "metadata": {
    "id": "-2QaoZdRmL6U"
   },
   "outputs": [],
   "source": [
    "#!pip3 install torch==1.8.1+cu111 torchvision==0.9.1+cu111 torchaudio==0.8.1 -f https://download.pytorch.org/whl/torch_stable.html\n",
    "#!pip install torch-stft"
   ]
  },
  {
   "cell_type": "code",
   "execution_count": 1,
   "metadata": {
    "id": "viYC50YXLoPs"
   },
   "outputs": [],
   "source": [
    "import os \n",
    "from multiprocessing import Pool\n",
    "import torch\n",
    "from torch_stft import STFT\n",
    "import numpy as np\n",
    "import librosa \n",
    "import matplotlib.pyplot as plt\n",
    "from tqdm import tqdm\n",
    "import torch.multiprocessing as mp\n",
    "import time, glob"
   ]
  },
  {
   "cell_type": "code",
   "execution_count": 2,
   "metadata": {},
   "outputs": [
    {
     "name": "stdout",
     "output_type": "stream",
     "text": [
      " 2020_11_23_visualize_coswara_data_metadata.ipynb\n",
      " birdclef-mels-computer-public.ipynb\n",
      " birds-call-identification-online-0-58.ipynb\n",
      " clean-fast-simple-bird-identifier-training-colab.ipynb\n",
      " eda-cnn-and-transfer-learning.ipynb\n",
      " FILE_20210604_175327_cough_covid-1-Copy1.ipynb\n",
      " FILE_20210604_175327_cough_covid-1.ipynb\n",
      " Inference_5_class.ipynb\n",
      " Inference_finetuned.ipynb\n",
      " Inference.ipynb\n",
      "'make & split folders.ipynb'\n",
      " pytorch-training-birdclef2021.ipynb\n",
      " wav2stft.py\n"
     ]
    }
   ],
   "source": [
    "!ls"
   ]
  },
  {
   "cell_type": "markdown",
   "metadata": {
    "id": "yFn7Xh0TtF7X"
   },
   "source": [
    "# webm2wav"
   ]
  },
  {
   "cell_type": "code",
   "execution_count": null,
   "metadata": {
    "id": "IQmGjJ3XLxbh"
   },
   "outputs": [],
   "source": [
    "list_file = os.listdir('/Downloads/Covid/Cough/data/public_dataset')\n",
    "list_webm = []\n",
    "for fname in list_file:\n",
    "    if fname[-4:] == 'webm': #.ogg; .mp3\n",
    "        list_webm.append(fname)"
   ]
  },
  {
   "cell_type": "code",
   "execution_count": null,
   "metadata": {
    "id": "WWx-t7G-VAM4"
   },
   "outputs": [],
   "source": [
    "def webm2wav(fname):\n",
    "    name = fname.split('.webm')[0]\n",
    "    #name = fname.split('.ogg')[0]\n",
    "    #name = fname.split('.mp3')[0]\n",
    "\n",
    "    os.system(f'ffmpeg -i /Downloads/Covid/Cough/data/public_dataset/{fname} -c:a pcm_f32le /Downloads/Covid/Cough/data/wav/{name}.wav')\n",
    "    print(name)"
   ]
  },
  {
   "cell_type": "code",
   "execution_count": null,
   "metadata": {
    "id": "oP9Ovf41VQy0"
   },
   "outputs": [],
   "source": [
    "with Pool(24) as p:\n",
    "    p.map(webm2wav, list_webm)"
   ]
  },
  {
   "cell_type": "markdown",
   "metadata": {
    "id": "0jKuPnf8tOMh"
   },
   "source": [
    "# wav2mel"
   ]
  },
  {
   "cell_type": "code",
   "execution_count": 49,
   "metadata": {
    "id": "6kSKeN6oWH9w"
   },
   "outputs": [
    {
     "name": "stdout",
     "output_type": "stream",
     "text": [
      " 2020_11_23_visualize_coswara_data_metadata.ipynb\n",
      " birdclef-mels-computer-public.ipynb\n",
      " birds-call-identification-online-0-58.ipynb\n",
      " clean-fast-simple-bird-identifier-training-colab.ipynb\n",
      " eda-cnn-and-transfer-learning.ipynb\n",
      " FILE_20210604_175327_cough_covid-1-Copy1.ipynb\n",
      " FILE_20210604_175327_cough_covid-1.ipynb\n",
      " Inference_5_class.ipynb\n",
      " Inference_finetuned.ipynb\n",
      " Inference.ipynb\n",
      "'make & split folders.ipynb'\n",
      " pytorch-training-birdclef2021.ipynb\n",
      " wav2stft.py\n"
     ]
    }
   ],
   "source": [
    "%matplotlib notebook\n",
    "!ls\n",
    "#!cd"
   ]
  },
  {
   "cell_type": "code",
   "execution_count": 30,
   "metadata": {
    "id": "7TAoYR-ytV6X"
   },
   "outputs": [],
   "source": [
    "import threading\n",
    "\n",
    "device = torch.device(\"cuda\")\n",
    "filter_length = 1024\n",
    "hop_length = 256\n",
    "win_length = 1024 \n",
    "window = 'hann'\n",
    "stft = STFT(\n",
    "    filter_length=filter_length, \n",
    "    hop_length=hop_length, \n",
    "    win_length=win_length,\n",
    "    window=window\n",
    ").to(device)\n",
    "\n",
    "\n",
    "def wav2mel(fname):\n",
    "    basename = fname.split('.')[0]\n",
    "    #audio = librosa.load(os.path.join('/home/linh/Downloads/Covid/cough/wav',fname))[0]\n",
    "    audio = librosa.load(os.path.join('/home/linh/Downloads/Covid/Cough/coswara/audio/',fname))[0]\n",
    "    audio = torch.FloatTensor(audio)\n",
    "    audio = audio.unsqueeze(0)\n",
    "    audio = audio.to(device)\n",
    "    magnitude, phase = stft.transform(audio)\n",
    "    plt.imshow(20*np.log10(1+magnitude[0].cpu().data.numpy()), aspect='auto', origin='lower')\n",
    "    plt.axis('off')\n",
    "    plt.savefig(f'/{basename}.jpg', bbox_inches='tight', pad_inches = 0)\n",
    "    \n",
    "#list_wav = os.listdir('/home/linh/Downloads/Covid/Cough/coswara/audio/')\n",
    "\n",
    "#for idx in tqdm(range(len(list_wav))):\n",
    "#    wav2mel(list_wav[idx])"
   ]
  },
  {
   "cell_type": "code",
   "execution_count": 31,
   "metadata": {
    "id": "X6abeHefFDzc"
   },
   "outputs": [],
   "source": [
    "#ist_wav = os.listdir('/home/linh/Downloads/Covid/Cough/coswara/audio/')\n",
    "list_wav = glob.glob('/home/linh/Downloads/Covid/Cough/coswara/audio/*/*/*.wav')"
   ]
  },
  {
   "cell_type": "code",
   "execution_count": 32,
   "metadata": {
    "id": "qegKu8ORZAkO"
   },
   "outputs": [
    {
     "name": "stderr",
     "output_type": "stream",
     "text": [
      "  0%|          | 53/15568 [01:24<6:51:47,  1.59s/it] \n"
     ]
    },
    {
     "ename": "ValueError",
     "evalue": "Input signal length=0 is too small to resample from 44100->22050",
     "output_type": "error",
     "traceback": [
      "\u001b[0;31m---------------------------------------------------------------------------\u001b[0m",
      "\u001b[0;31mValueError\u001b[0m                                Traceback (most recent call last)",
      "\u001b[0;32m<ipython-input-32-ece86395c993>\u001b[0m in \u001b[0;36m<module>\u001b[0;34m\u001b[0m\n\u001b[1;32m      1\u001b[0m \u001b[0;32mfor\u001b[0m \u001b[0midx\u001b[0m \u001b[0;32min\u001b[0m \u001b[0mtqdm\u001b[0m\u001b[0;34m(\u001b[0m\u001b[0mrange\u001b[0m\u001b[0;34m(\u001b[0m\u001b[0mlen\u001b[0m\u001b[0;34m(\u001b[0m\u001b[0mlist_wav\u001b[0m\u001b[0;34m)\u001b[0m\u001b[0;34m)\u001b[0m\u001b[0;34m)\u001b[0m\u001b[0;34m:\u001b[0m\u001b[0;34m\u001b[0m\u001b[0;34m\u001b[0m\u001b[0m\n\u001b[0;32m----> 2\u001b[0;31m     \u001b[0mwav2mel\u001b[0m\u001b[0;34m(\u001b[0m\u001b[0mlist_wav\u001b[0m\u001b[0;34m[\u001b[0m\u001b[0midx\u001b[0m\u001b[0;34m]\u001b[0m\u001b[0;34m)\u001b[0m\u001b[0;34m\u001b[0m\u001b[0;34m\u001b[0m\u001b[0m\n\u001b[0m",
      "\u001b[0;32m<ipython-input-30-8eeefb053995>\u001b[0m in \u001b[0;36mwav2mel\u001b[0;34m(fname)\u001b[0m\n\u001b[1;32m     17\u001b[0m     \u001b[0mbasename\u001b[0m \u001b[0;34m=\u001b[0m \u001b[0mfname\u001b[0m\u001b[0;34m.\u001b[0m\u001b[0msplit\u001b[0m\u001b[0;34m(\u001b[0m\u001b[0;34m'.'\u001b[0m\u001b[0;34m)\u001b[0m\u001b[0;34m[\u001b[0m\u001b[0;36m0\u001b[0m\u001b[0;34m]\u001b[0m\u001b[0;34m\u001b[0m\u001b[0;34m\u001b[0m\u001b[0m\n\u001b[1;32m     18\u001b[0m     \u001b[0;31m#audio = librosa.load(os.path.join('/home/linh/Downloads/Covid/cough/wav',fname))[0]\u001b[0m\u001b[0;34m\u001b[0m\u001b[0;34m\u001b[0m\u001b[0;34m\u001b[0m\u001b[0m\n\u001b[0;32m---> 19\u001b[0;31m     \u001b[0maudio\u001b[0m \u001b[0;34m=\u001b[0m \u001b[0mlibrosa\u001b[0m\u001b[0;34m.\u001b[0m\u001b[0mload\u001b[0m\u001b[0;34m(\u001b[0m\u001b[0mos\u001b[0m\u001b[0;34m.\u001b[0m\u001b[0mpath\u001b[0m\u001b[0;34m.\u001b[0m\u001b[0mjoin\u001b[0m\u001b[0;34m(\u001b[0m\u001b[0;34m'/home/linh/Downloads/Covid/Cough/coswara/audio/'\u001b[0m\u001b[0;34m,\u001b[0m\u001b[0mfname\u001b[0m\u001b[0;34m)\u001b[0m\u001b[0;34m)\u001b[0m\u001b[0;34m[\u001b[0m\u001b[0;36m0\u001b[0m\u001b[0;34m]\u001b[0m\u001b[0;34m\u001b[0m\u001b[0;34m\u001b[0m\u001b[0m\n\u001b[0m\u001b[1;32m     20\u001b[0m     \u001b[0maudio\u001b[0m \u001b[0;34m=\u001b[0m \u001b[0mtorch\u001b[0m\u001b[0;34m.\u001b[0m\u001b[0mFloatTensor\u001b[0m\u001b[0;34m(\u001b[0m\u001b[0maudio\u001b[0m\u001b[0;34m)\u001b[0m\u001b[0;34m\u001b[0m\u001b[0;34m\u001b[0m\u001b[0m\n\u001b[1;32m     21\u001b[0m     \u001b[0maudio\u001b[0m \u001b[0;34m=\u001b[0m \u001b[0maudio\u001b[0m\u001b[0;34m.\u001b[0m\u001b[0munsqueeze\u001b[0m\u001b[0;34m(\u001b[0m\u001b[0;36m0\u001b[0m\u001b[0;34m)\u001b[0m\u001b[0;34m\u001b[0m\u001b[0;34m\u001b[0m\u001b[0m\n",
      "\u001b[0;32m~/.local/lib/python3.8/site-packages/librosa/core/audio.py\u001b[0m in \u001b[0;36mload\u001b[0;34m(path, sr, mono, offset, duration, dtype, res_type)\u001b[0m\n\u001b[1;32m    173\u001b[0m \u001b[0;34m\u001b[0m\u001b[0m\n\u001b[1;32m    174\u001b[0m     \u001b[0;32mif\u001b[0m \u001b[0msr\u001b[0m \u001b[0;32mis\u001b[0m \u001b[0;32mnot\u001b[0m \u001b[0;32mNone\u001b[0m\u001b[0;34m:\u001b[0m\u001b[0;34m\u001b[0m\u001b[0;34m\u001b[0m\u001b[0m\n\u001b[0;32m--> 175\u001b[0;31m         \u001b[0my\u001b[0m \u001b[0;34m=\u001b[0m \u001b[0mresample\u001b[0m\u001b[0;34m(\u001b[0m\u001b[0my\u001b[0m\u001b[0;34m,\u001b[0m \u001b[0msr_native\u001b[0m\u001b[0;34m,\u001b[0m \u001b[0msr\u001b[0m\u001b[0;34m,\u001b[0m \u001b[0mres_type\u001b[0m\u001b[0;34m=\u001b[0m\u001b[0mres_type\u001b[0m\u001b[0;34m)\u001b[0m\u001b[0;34m\u001b[0m\u001b[0;34m\u001b[0m\u001b[0m\n\u001b[0m\u001b[1;32m    176\u001b[0m \u001b[0;34m\u001b[0m\u001b[0m\n\u001b[1;32m    177\u001b[0m     \u001b[0;32melse\u001b[0m\u001b[0;34m:\u001b[0m\u001b[0;34m\u001b[0m\u001b[0;34m\u001b[0m\u001b[0m\n",
      "\u001b[0;32m~/.local/lib/python3.8/site-packages/librosa/core/audio.py\u001b[0m in \u001b[0;36mresample\u001b[0;34m(y, orig_sr, target_sr, res_type, fix, scale, **kwargs)\u001b[0m\n\u001b[1;32m    602\u001b[0m         \u001b[0my_hat\u001b[0m \u001b[0;34m=\u001b[0m \u001b[0msoxr\u001b[0m\u001b[0;34m.\u001b[0m\u001b[0mresample\u001b[0m\u001b[0;34m(\u001b[0m\u001b[0my\u001b[0m\u001b[0;34m.\u001b[0m\u001b[0mT\u001b[0m\u001b[0;34m,\u001b[0m \u001b[0morig_sr\u001b[0m\u001b[0;34m,\u001b[0m \u001b[0mtarget_sr\u001b[0m\u001b[0;34m,\u001b[0m \u001b[0mquality\u001b[0m\u001b[0;34m=\u001b[0m\u001b[0mres_type\u001b[0m\u001b[0;34m)\u001b[0m\u001b[0;34m.\u001b[0m\u001b[0mT\u001b[0m\u001b[0;34m\u001b[0m\u001b[0;34m\u001b[0m\u001b[0m\n\u001b[1;32m    603\u001b[0m     \u001b[0;32melse\u001b[0m\u001b[0;34m:\u001b[0m\u001b[0;34m\u001b[0m\u001b[0;34m\u001b[0m\u001b[0m\n\u001b[0;32m--> 604\u001b[0;31m         \u001b[0my_hat\u001b[0m \u001b[0;34m=\u001b[0m \u001b[0mresampy\u001b[0m\u001b[0;34m.\u001b[0m\u001b[0mresample\u001b[0m\u001b[0;34m(\u001b[0m\u001b[0my\u001b[0m\u001b[0;34m,\u001b[0m \u001b[0morig_sr\u001b[0m\u001b[0;34m,\u001b[0m \u001b[0mtarget_sr\u001b[0m\u001b[0;34m,\u001b[0m \u001b[0mfilter\u001b[0m\u001b[0;34m=\u001b[0m\u001b[0mres_type\u001b[0m\u001b[0;34m,\u001b[0m \u001b[0maxis\u001b[0m\u001b[0;34m=\u001b[0m\u001b[0;34m-\u001b[0m\u001b[0;36m1\u001b[0m\u001b[0;34m)\u001b[0m\u001b[0;34m\u001b[0m\u001b[0;34m\u001b[0m\u001b[0m\n\u001b[0m\u001b[1;32m    605\u001b[0m \u001b[0;34m\u001b[0m\u001b[0m\n\u001b[1;32m    606\u001b[0m     \u001b[0;32mif\u001b[0m \u001b[0mfix\u001b[0m\u001b[0;34m:\u001b[0m\u001b[0;34m\u001b[0m\u001b[0;34m\u001b[0m\u001b[0m\n",
      "\u001b[0;32m~/.local/lib/python3.8/site-packages/resampy/core.py\u001b[0m in \u001b[0;36mresample\u001b[0;34m(x, sr_orig, sr_new, axis, filter, **kwargs)\u001b[0m\n\u001b[1;32m     95\u001b[0m \u001b[0;34m\u001b[0m\u001b[0m\n\u001b[1;32m     96\u001b[0m     \u001b[0;32mif\u001b[0m \u001b[0mshape\u001b[0m\u001b[0;34m[\u001b[0m\u001b[0maxis\u001b[0m\u001b[0;34m]\u001b[0m \u001b[0;34m<\u001b[0m \u001b[0;36m1\u001b[0m\u001b[0;34m:\u001b[0m\u001b[0;34m\u001b[0m\u001b[0;34m\u001b[0m\u001b[0m\n\u001b[0;32m---> 97\u001b[0;31m         raise ValueError('Input signal length={} is too small to '\n\u001b[0m\u001b[1;32m     98\u001b[0m                          'resample from {}->{}'.format(x.shape[axis], sr_orig, sr_new))\n\u001b[1;32m     99\u001b[0m \u001b[0;34m\u001b[0m\u001b[0m\n",
      "\u001b[0;31mValueError\u001b[0m: Input signal length=0 is too small to resample from 44100->22050"
     ]
    },
    {
     "data": {
      "image/png": "[encoded data removed]",
      "text/plain": [
       "<Figure size 432x288 with 1 Axes>"
      ]
     },
     "metadata": {
      "needs_background": "light"
     },
     "output_type": "display_data"
    }
   ],
   "source": [
    "for idx in tqdm(range(len(list_wav))):\n",
    "    wav2mel(list_wav[idx])"
   ]
  },
  {
   "cell_type": "markdown",
   "metadata": {
    "id": "X1L98Mj5l_tn"
   },
   "source": [
    "# Convert from *npy to *png"
   ]
  },
  {
   "cell_type": "code",
   "execution_count": null,
   "metadata": {},
   "outputs": [],
   "source": [
    "from tqdm import tqdm\n",
    "import threading\n",
    "from multiprocessing import Pool\n",
    "\n",
    "\n",
    "#filelist = glob.glob('/Downloads/Covid/Cough/public_dataset_mel/STFT/*.npy')\n",
    "filelist = os.listdir('/Downloads/Covid/Cough/public_dataset_mel/STFT/')\n",
    "def npy2jpg(fname):\n",
    "    basename = fname.split('.')[0]\n",
    "    file = np.load(os.path.join('/Downloads/Covid/Cough/public_dataset_mel/STFT/',fname))\n",
    "    plt.imshow(file, aspect='auto', origin='lower'\n",
    "              )\n",
    "    plt.axis('off')\n",
    "    plt.savefig(f\"/Downloads/Covid/Cough/JPG/{basename}.png\",  bbox_inches='tight', pad_inches = 0)\n",
    "    \n",
    "#for idx in tqdm(range(len(filelist))):\n",
    "#    npy2jpg(filelist[idx])\n",
    "\n",
    "with Pool(20) as p:\n",
    "    p.map(npy2jpg, filelist)"
   ]
  },
  {
   "cell_type": "code",
   "execution_count": null,
   "metadata": {},
   "outputs": [],
   "source": [
    "import matplotlib.pyplot as plt\n",
    "from multiprocessing import Pool\n",
    "import librosa \n",
    "import librosa.display\n",
    "import os\n",
    "\n",
    "\n",
    "def wav2mel_mfcc(fname):\n",
    "    basename = fname.split('.')[0]\n",
    "    y, sr = librosa.load(os.path.join('/content/wav',fname))\n",
    "    feature = librosa.feature.mfcc(y=y, sr=sr, n_mfcc=40)\n",
    "    img = librosa.display.specshow(feature)\n",
    "    plt.savefig(f\"/content/jpg_mfcc/{basename}.png\",  bbox_inches='tight', pad_inches = 0)\n",
    "\n",
    "list_wav = os.listdir('/content/wav')\n",
    "\n",
    "with Pool(5) as p:\n",
    "    p.map(wav2mel_mfcc, list_wav)"
   ]
  },
  {
   "cell_type": "markdown",
   "metadata": {},
   "source": [
    "# Rename"
   ]
  },
  {
   "cell_type": "code",
   "execution_count": 3,
   "metadata": {},
   "outputs": [
    {
     "ename": "FileNotFoundError",
     "evalue": "[Errno 2] No such file or directory: '/home/linh/Downloads/Covid/Cough/coswara//home/linh/Downloads/Covid/Cough/coswara/audio/20200502/gjF0L8phdmPxc9az1muox66bQD93/cough-heavy.wav' -> '/home/linh/Downloads/Covid/Cough/coswara/0.wav'",
     "output_type": "error",
     "traceback": [
      "\u001b[0;31m---------------------------------------------------------------------------\u001b[0m",
      "\u001b[0;31mFileNotFoundError\u001b[0m                         Traceback (most recent call last)",
      "\u001b[0;32m<ipython-input-3-da44451aebbf>\u001b[0m in \u001b[0;36m<module>\u001b[0;34m\u001b[0m\n\u001b[1;32m      3\u001b[0m \u001b[0;32mfor\u001b[0m \u001b[0mindex\u001b[0m\u001b[0;34m,\u001b[0m \u001b[0mfile\u001b[0m \u001b[0;32min\u001b[0m \u001b[0menumerate\u001b[0m\u001b[0;34m(\u001b[0m\u001b[0mfiles\u001b[0m\u001b[0;34m)\u001b[0m\u001b[0;34m:\u001b[0m\u001b[0;34m\u001b[0m\u001b[0;34m\u001b[0m\u001b[0m\n\u001b[1;32m      4\u001b[0m     \u001b[0;31m#print (file)\u001b[0m\u001b[0;34m\u001b[0m\u001b[0;34m\u001b[0m\u001b[0;34m\u001b[0m\u001b[0m\n\u001b[0;32m----> 5\u001b[0;31m     \u001b[0mos\u001b[0m\u001b[0;34m.\u001b[0m\u001b[0mrename\u001b[0m\u001b[0;34m(\u001b[0m\u001b[0mpath\u001b[0m\u001b[0;34m+\u001b[0m\u001b[0mfile\u001b[0m\u001b[0;34m,\u001b[0m \u001b[0mpath\u001b[0m \u001b[0;34m+\u001b[0m \u001b[0mstr\u001b[0m\u001b[0;34m(\u001b[0m\u001b[0mindex\u001b[0m\u001b[0;34m)\u001b[0m\u001b[0;34m+\u001b[0m \u001b[0;34m'.wav'\u001b[0m\u001b[0;34m)\u001b[0m\u001b[0;34m\u001b[0m\u001b[0;34m\u001b[0m\u001b[0m\n\u001b[0m",
      "\u001b[0;31mFileNotFoundError\u001b[0m: [Errno 2] No such file or directory: '/home/linh/Downloads/Covid/Cough/coswara//home/linh/Downloads/Covid/Cough/coswara/audio/20200502/gjF0L8phdmPxc9az1muox66bQD93/cough-heavy.wav' -> '/home/linh/Downloads/Covid/Cough/coswara/0.wav'"
     ]
    }
   ],
   "source": [
    "path = \"/home/linh/Downloads/Covid/Cough/coswara/\"\n",
    "files = glob.glob('/home/linh/Downloads/Covid/Cough/coswara/audio/*/*/*.wav')\n",
    "for index, file in enumerate(files):\n",
    "    #print (file)\n",
    "    os.rename(path+file, path + str(index)+ '.wav')"
   ]
  },
  {
   "cell_type": "markdown",
   "metadata": {},
   "source": [
    "# Move files"
   ]
  },
  {
   "cell_type": "code",
   "execution_count": 33,
   "metadata": {},
   "outputs": [],
   "source": [
    "import os, shutil, glob\n",
    "\n",
    "#Source file \n",
    "sourcefile = '/home/linh/Downloads/Covid/Cough/coswara/audio/'\n",
    "\n",
    "# for loop then I split the names of the image then making new folder \n",
    "#for file_path in glob.glob(os.path.join(sourcefile, '*.wav*')):\n",
    "for file_path in glob.glob('/home/linh/Downloads/Covid/Cough/coswara/audio/*/*/*.wav'):\n",
    "\n",
    "\n",
    "    new_dir = '/home/linh/Downloads/Covid/Cough/X/' #file_path.rsplit('.', 1)[0]    \n",
    "    # If folder does not exist try making new one\n",
    "    #try:\n",
    "    #    os.mkdir(os.path.join(sourcefile, new_dir))\n",
    "    # except error then pass\n",
    "    #except WindowsError:\n",
    "    #    pass\n",
    "    # Move the images from file to new folder based on image name\n",
    "    #shutil.move(file_path, os.path.join(new_dir, os.path.basename(file_path)))\n",
    "    shutil.copy(file_path, os.path.join(new_dir, os.path.basename(file_path)))"
   ]
  },
  {
   "cell_type": "code",
   "execution_count": 27,
   "metadata": {},
   "outputs": [],
   "source": [
    "import os\n",
    "import shutil\n",
    "\n",
    "root_src_dir = os.path.join('/home/linh/Downloads/Covid/Cough/coswara/audio',\"/*\", \"/*\", \"/*.wav\")\n",
    "root_target_dir = os.path.join('/home/linh/Downloads/Covid-19/Cough/X')\n",
    "\n",
    "operation = 'move' #'copy' or 'move'\n",
    "\n",
    "for src_dir, dirs, files in os.walk(root_src_dir):\n",
    "    dst_dir = src_dir.replace(root_src_dir, root_target_dir)\n",
    "    if not os.path.exists(dst_dir):\n",
    "        os.mkdir(dst_dir)\n",
    "    for file_ in files:\n",
    "        src_file = os.path.join(src_dir, file_)\n",
    "        dst_file = os.path.join(dst_dir, file_)\n",
    "        if os.path.exists(dst_file):\n",
    "            os.remove(dst_file)\n",
    "        if operation == 'copy':\n",
    "            shutil.copy(src_file, dst_dir)\n",
    "        elif operation == 'move':\n",
    "            shutil.move(src_file, dst_dir)"
   ]
  },
  {
   "cell_type": "markdown",
   "metadata": {},
   "source": [
    "# Make Folders"
   ]
  },
  {
   "cell_type": "code",
   "execution_count": null,
   "metadata": {},
   "outputs": [],
   "source": [
    "from __future__ import print_function\n",
    "import pandas as pd\n",
    "import shutil\n",
    "import os\n",
    "import sys\n",
    "import glob\n",
    "\n",
    "\n",
    "labels = pd.read_csv('/Downloads/Covid/Cough/metadata_compiled.csv')\n",
    "\n",
    "\n",
    "\n",
    "\n",
    "train_dir = os.path.join('/Downloads/Covid/Cough/JPG/')\n",
    "\n",
    "train_sep_dir = os.path.join('/Downloads/Covid/Cough/dat/')\n",
    "\n",
    "\n",
    "if not os.path.exists(train_sep_dir):\n",
    "    os.mkdir(train_sep_dir)\n",
    "\n",
    "for uuid, status in labels.values:\n",
    "    # Create subdirectory with `class_name`\n",
    "    if not os.path.exists(train_sep_dir + status):\n",
    "        os.mkdir(train_sep_dir + status)\n",
    "    src_path = train_dir + uuid + '.png'\n",
    "    dst_path = train_sep_dir + status + '/' + uuid + '.png'\n",
    "    try:\n",
    "        shutil.copy(src_path, dst_path)\n",
    "    except IOError as e:\n",
    "        print('Unable to copy file {} to {}'\n",
    "              .format(src_path, dst_path))\n",
    "    except:\n",
    "        print('When try copy file {} to {}, unexpected error: {}'\n",
    "              .format(src_path, dst_path, sys.exc_info()))"
   ]
  },
  {
   "cell_type": "markdown",
   "metadata": {},
   "source": [
    "# Split Folders"
   ]
  },
  {
   "cell_type": "code",
   "execution_count": 4,
   "metadata": {},
   "outputs": [
    {
     "name": "stdout",
     "output_type": "stream",
     "text": [
      "Requirement already satisfied: split-folders in /home/linh/anaconda3/lib/python3.8/site-packages (0.4.3)\n"
     ]
    },
    {
     "name": "stderr",
     "output_type": "stream",
     "text": [
      "\n",
      "\n",
      "Copying files: 0 files [00:29, ? files/s]\u001b[A\u001b[A\n",
      "\n",
      "\n",
      "Copying files: 585 files [00:00, 4587.51 files/s]\u001b[A\u001b[A\n"
     ]
    }
   ],
   "source": [
    "!pip install split-folders\n",
    "import splitfolders  # or import split_folders\n",
    "\n",
    "# Split with a ratio.\n",
    "# To only split into training and validation set, set a tuple to `ratio`, i.e, `(.8, .2)`.\n",
    "splitfolders.ratio(\"/home/linh/Downloads/OCTID/d/\", output=\"/home/linh/Downloads/OCTID/\", seed=1337, ratio=(.8, .1, .1), group_prefix=None) # default values\n",
    "\n",
    "# Split val/test with a fixed number of items e.g. 100 for each set.\n",
    "# To only split into training and validation set, use a single number to `fixed`, i.e., `10`.\n",
    "#splitfolders.fixed(\"input_folder\", output=\"output\", seed=1337, fixed=(100, 100), oversample=False, group_prefix=None) # default values"
   ]
  },
  {
   "cell_type": "code",
   "execution_count": null,
   "metadata": {},
   "outputs": [],
   "source": []
  }
 ],
 "metadata": {
  "accelerator": "GPU",
  "colab": {
   "collapsed_sections": [
    "yFn7Xh0TtF7X"
   ],
   "machine_shape": "hm",
   "name": "cough_covid.ipynb",
   "provenance": [],
   "toc_visible": true
  },
  "kernelspec": {
   "display_name": "Python 3",
   "language": "python",
   "name": "python3"
  },
  "language_info": {
   "codemirror_mode": {
    "name": "ipython",
    "version": 3
   },
   "file_extension": ".py",
   "mimetype": "text/x-python",
   "name": "python",
   "nbconvert_exporter": "python",
   "pygments_lexer": "ipython3",
   "version": "3.9.4"
  }
 },
 "nbformat": 4,
 "nbformat_minor": 4
}
